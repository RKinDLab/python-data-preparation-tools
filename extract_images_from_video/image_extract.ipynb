{
 "metadata": {
  "language_info": {
   "codemirror_mode": {
    "name": "ipython",
    "version": 3
   },
   "file_extension": ".py",
   "mimetype": "text/x-python",
   "name": "python",
   "nbconvert_exporter": "python",
   "pygments_lexer": "ipython3",
   "version": "3.8.5"
  },
  "orig_nbformat": 2,
  "kernelspec": {
   "name": "python385jvsc74a57bd0950aa55c43fa3e0aeb360152eb5e49e7915cc04ac4f919e10fc131d00367429a",
   "display_name": "Python 3.8.5 64-bit ('base': conda)"
  }
 },
 "nbformat": 4,
 "nbformat_minor": 2,
 "cells": [
  {
   "source": [
    "# Image Extractor\n",
    "## Version - 1.0\n",
    "## Date - 01.25.2021"
   ],
   "cell_type": "markdown",
   "metadata": {}
  },
  {
   "source": [
    "## References\n",
    "* How to solve the unicodeescape problem - https://stackoverflow.com/questions/37400974/unicode-error-unicodeescape-codec-cant-decode-bytes-in-position-2-3-trunca"
   ],
   "cell_type": "markdown",
   "metadata": {}
  },
  {
   "source": [
    "## Usage\n",
    "* If you are using the notebook for the first time, make sure the value of global_count is set to an inital starting number (i.e. 0, 1 etc)\n",
    "* Place this notebook in the directory where all the video clips are present\n",
    "* Make sure the file format for the video files are all in same format\n",
    "* Create a new folder called 'img_container' in that same folder\n",
    "* [OPTIONAL] Rename video clips to Video1.mp4, Video2.mp4 etc\n",
    "* At this time, the video file must be let run without interruptions"
   ],
   "cell_type": "markdown",
   "metadata": {}
  },
  {
   "source": [
    "## TO-DO\n",
    "* Data Augmentation steps"
   ],
   "cell_type": "markdown",
   "metadata": {}
  },
  {
   "cell_type": "code",
   "execution_count": null,
   "metadata": {},
   "outputs": [],
   "source": [
    "import cv2 # Python OpenCV library\n",
    "print(cv2.__version__) # Optional\n",
    "\n",
    "import os\n",
    "# Find location of the script\n",
    "wrk_dir = os.getcwd()\n",
    "path = wrk_dir + '\\img_container'\n",
    "#print(path) # Debug\n",
    "\n",
    "# Define a variable to store global frame count\n",
    "frame_count = 0\n",
    "\n",
    "# Varialbe to define how many frames to skip\n",
    "# 5 is fixed for out experiment\n",
    "skip_counter = 1\n",
    "\n",
    "# Set this boolean True, if you want to add extra parts to the final image name\n",
    "# I suggest setting this conditional to False when preparing training and validation dataset\n",
    "set_extra = True\n",
    "\n",
    "show_video = True\n",
    "\n",
    "# Define extra part that you want to add to the file name\n",
    "extra_part = \"sp_tempo_devset_\"\n",
    "\n",
    "# ************************* User defined functions ***************************** #\n",
    "def get_global_frame_count():\n",
    "    # Open text file to retrieve current count\n",
    "    # w+ means both in read and write mode\n",
    "    f= open(\"global_count.txt\",\"r\")\n",
    "    f1 = f.readlines() # Read line by line, we only need the first row\n",
    "    f.close() # If the file is not closed it gets overwritten\n",
    "    #rint(type(f1[0]))\n",
    "    frame_count = int(f1[0])\n",
    "    print(f\"Value of global_frame count now -> {frame_count}\") # Debug\n",
    "    return frame_count\n",
    "\n",
    "def set_global_frame_count(last_count):\n",
    "    \n",
    "    # Open global_count.txt file in read mode\n",
    "    f= open(\"global_count.txt\",\"r\")\n",
    "    f1 = f.readlines() # Read line by line\n",
    "    f1[0] = str(last_count) # Load last global_count number for storing into global_count.txt\n",
    "    f.close() \n",
    "\n",
    "    # Open in write mode\n",
    "    f= open(\"global_count.txt\",\"w\")\n",
    "    f.writelines(f1) # Push updated count value\n",
    "    f.close()\n",
    "    print(f\"Value of global_frame sent to file -> {last_count}\") # Debug\n",
    "\n",
    "# ************************* User defined functions ***************************** #"
   ]
  },
  {
   "cell_type": "code",
   "execution_count": null,
   "metadata": {},
   "outputs": [],
   "source": [
    "# Main function, extracts frames from one video clip\n",
    "# Todo show name of file running in the terminal shell, add parameter to view video\n",
    "def image_extractor(file_name, show_video, skip_counter, fps):\n",
    "    \n",
    "    # Get updated global frame count\n",
    "    #frame_count = get_global_frame_count()\n",
    "    \n",
    "    frame_count = 0 # DELETE THIS LATER\n",
    "\n",
    "    # Load file name to extract images\n",
    "    cap = cv2.VideoCapture(file_name)\n",
    "\n",
    "    # Local count\n",
    "    local_count = 0\n",
    "\n",
    "    # Main loop\n",
    "    while (cap.isOpened()):\n",
    "        ret, img = cap.read() # ret is true if frame is available, else false\n",
    "        # frames saves the frame captured\n",
    "\n",
    "        if (ret == True):\n",
    "            if (show_video == True):\n",
    "                cv2.imshow(file_name,img)\n",
    "            \n",
    "            # Change key to match speed of your  video\n",
    "            #key = cv2.waitKey(fps) # For 30 fps ->  (1/30 * 1000) = 33.33 milliseconds\n",
    "\n",
    "            key = cv2.waitKey(1) # For 30 fps ->  (1/30 * 1000) = 33.33 milliseconds\n",
    "\n",
    "            local_count+=1 # Increment local counter by 1\n",
    "            \n",
    "            # if (local_count<=5):\n",
    "            #     continue\n",
    "\n",
    "            if (local_count==skip_counter):\n",
    "                # Reset local_frame count\n",
    "                local_count = 0\n",
    "\n",
    "                # Update counter\n",
    "                frame_count+=1\n",
    "\n",
    "                # update global frame name\n",
    "                if (set_extra == True):\n",
    "                    new_frame = extra_part + str(frame_count) + '.png'\n",
    "                else:\n",
    "                    new_frame = 'IMG_' + str(frame_count) + '.png'\n",
    "                \n",
    "                # Updated path\n",
    "                path_update = os.path.join(path , new_frame)\n",
    "                #print(path_update) # Debug\n",
    "                # Record a image frame in the specified folder\n",
    "                cv2.imwrite(path_update,img)\n",
    "                #print(f\"Captured frame -> {frame_count}\")\n",
    "    \n",
    "        else:\n",
    "            # No more frames left\n",
    "            break \n",
    "\n",
    "    cap.release() # Needed to release video resources\n",
    "    cv2.destroyAllWindows() # Destroy any open video window\n",
    "\n",
    "    # Remember last frame count\n",
    "    #set_global_frame_count(frame_count)\n",
    "    # End of function"
   ]
  },
  {
   "cell_type": "code",
   "execution_count": null,
   "metadata": {},
   "outputs": [],
   "source": [
    "# Main function call\n",
    "# Define name of video clip\n",
    "video_list = ['Video_67_redux.mp4']\n",
    "\n",
    "for file_name in video_list:\n",
    "    image_extractor(file_name = file_name, show_video = True, skip_counter = skip_counter, fps=21)"
   ]
  }
 ]
}