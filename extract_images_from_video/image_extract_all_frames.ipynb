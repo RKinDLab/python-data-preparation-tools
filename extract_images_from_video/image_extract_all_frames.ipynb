{
 "cells": [
  {
   "cell_type": "markdown",
   "metadata": {},
   "source": [
    "# Image Extractor\n",
    "## Version - 2.0\n",
    "## Date - 03.18.2021\n",
    "## This version extracts all availalbe frame and is desinged to create evaluation sequence"
   ]
  },
  {
   "cell_type": "code",
   "execution_count": 1,
   "metadata": {},
   "outputs": [
    {
     "name": "stdout",
     "output_type": "stream",
     "text": [
      "4.7.0\n"
     ]
    }
   ],
   "source": [
    "import cv2 # Python OpenCV library\n",
    "print(cv2.__version__) # Optional\n",
    "\n",
    "import os\n",
    "# Find location of the script\n",
    "wrk_dir = os.getcwd()\n",
    "#path = wrk_dir + '\\img_container'\n",
    "sav_path ='./img_container/'\n",
    "load_path = './video_files/'\n",
    "#print(path) # Debug\n",
    "\n",
    "# Set this boolean True, if you want to add extra parts to the final image name\n",
    "set_extra = False\n",
    "\n",
    "# Define extra part that you want to add to the file name\n",
    "extra_part = \"smart_\"\n",
    "\n",
    "fps = 30\n",
    "\n",
    "frame_count = 0\n",
    "# ************************* User defined functions ***************************** #"
   ]
  },
  {
   "cell_type": "code",
   "execution_count": 2,
   "metadata": {},
   "outputs": [],
   "source": [
    "# Main function, extracts frames from one video clip\n",
    "def image_extractor(file_name, show_video, fps):\n",
    "    \n",
    "    # Star frame count at 0\n",
    "    frame_count = 0\n",
    "    \n",
    "    # Load file name to extract images\n",
    "    cap = cv2.VideoCapture(file_name)\n",
    "\n",
    "    # Local count\n",
    "    local_count = 0\n",
    "\n",
    "    # Loop through video\n",
    "    while (cap.isOpened()):\n",
    "        ret, img = cap.read() # ret is true if frame is available, else false\n",
    "        # frames saves the frame captured\n",
    "\n",
    "        if (ret == True):\n",
    "            if (show_video == True):\n",
    "                cv2.imshow(file_name,img)\n",
    "            \n",
    "            # Change key to match speed of your  video\n",
    "            key = cv2.waitKey(fps) # For 30 fps ->  (1/30 * 1000) = 33.33 milliseconds\n",
    "\n",
    "            # update global frame name\n",
    "            new_frame = extra_part + str(frame_count) + '.png'\n",
    "                \n",
    "            # Updated path\n",
    "            path_update = os.path.join(sav_path, new_frame)\n",
    "            #print(path_update) # Debug\n",
    "            \n",
    "            # Record a image frame in the specified folder\n",
    "            cv2.imwrite(path_update,img)\n",
    "\n",
    "            # Update counter\n",
    "            frame_count+=1\n",
    "        else:\n",
    "            # No more frames left\n",
    "            break \n",
    "\n",
    "    cap.release() # Needed to release video resources\n",
    "    cv2.destroyAllWindows() # Destroy any open video window"
   ]
  },
  {
   "cell_type": "code",
   "execution_count": 3,
   "metadata": {},
   "outputs": [],
   "source": [
    "# Main function call\n",
    "# Define name of video clip\n",
    "\n",
    "# TODO\n",
    "\"\"\"\n",
    "* Find all the video files ending with .mp4 extension --> glob()\n",
    "\"\"\"\n",
    "\n",
    "video_list = ['./video_files/nsf_april.mp4']\n",
    "for file_name in video_list:\n",
    "    image_extractor(file_name = file_name, show_video = True, fps=fps)"
   ]
  }
 ],
 "metadata": {
  "kernelspec": {
   "display_name": "base",
   "language": "python",
   "name": "python3"
  },
  "language_info": {
   "codemirror_mode": {
    "name": "ipython",
    "version": 3
   },
   "file_extension": ".py",
   "mimetype": "text/x-python",
   "name": "python",
   "nbconvert_exporter": "python",
   "pygments_lexer": "ipython3",
   "version": "3.11.5"
  },
  "orig_nbformat": 2
 },
 "nbformat": 4,
 "nbformat_minor": 2
}
